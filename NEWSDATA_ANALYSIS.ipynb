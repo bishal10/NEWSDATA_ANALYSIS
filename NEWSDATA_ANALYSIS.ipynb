{
 "cells": [
  {
   "cell_type": "code",
   "execution_count": null,
   "metadata": {},
   "outputs": [],
   "source": [
    "//NEWSDATA.CSV FILE\n",
    "// TOP 10 CATEGORIES\n",
    "SELECT COUNT(CATEGORIES) AS TOTAL_CATEGORIES, CATEGORIES FROM NEWSDATA\n",
    "GROUP BY CATEGORIES\n",
    "ORDER BY TOTAL_CATEGORIES DESC\n",
    "LIMIT 10;\n",
    "\n",
    "// CATEGORIES WITH TOP 10 CLICKS\n",
    "SELECT COUNT(CLICK) AS COUNT_CLICK, CATEGORIES FROM NEWSDATA\n",
    "WHERE CATEGORIES IS NOT NULL \n",
    "GROUP BY CATEGORIES\n",
    "ORDER BY COUNT_CLICK DESC\n",
    "LIMIT 10;\n",
    "\n",
    "\n",
    "//HOW MANY TIMES THE USER HAS READ THE ARTICLE\n",
    "SELECT COUNT(UUSERID) AS COUNT_USER,UUSERID, ARTICLEID, SUM(CLICK) AS TOTAL_CLICK FROM NEWSDATA\n",
    "GROUP BY UUSERID, ARTICLEID\n",
    "ORDER BY COUNT_USER DESC;\n",
    "\n",
    "//WHAT'S THE TIME DURATION THAT A USER HAS READ THE ARTICLE\n",
    "SELECT COUNT(UUSERID) AS COUNT_USER,UUSERID, ARTICLEID, SUM(TIMEDURATION) AS TOTAL_TIMEDURATION FROM NEWSDATA\n",
    "GROUP BY UUSERID, ARTICLEID\n",
    "ORDER BY TOTAL_TIMEDURATION DESC;\n",
    "\n",
    "SELECT * FROM NEWSDATA;\n"
   ]
  }
 ],
 "metadata": {
  "kernelspec": {
   "display_name": "Python 3",
   "language": "python",
   "name": "python3"
  },
  "language_info": {
   "codemirror_mode": {
    "name": "ipython",
    "version": 3
   },
   "file_extension": ".py",
   "mimetype": "text/x-python",
   "name": "python",
   "nbconvert_exporter": "python",
   "pygments_lexer": "ipython3",
   "version": "3.8.5"
  }
 },
 "nbformat": 4,
 "nbformat_minor": 4
}
